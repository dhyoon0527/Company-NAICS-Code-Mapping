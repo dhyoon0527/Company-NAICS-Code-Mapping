{
 "cells": [
  {
   "cell_type": "code",
   "execution_count": 5,
   "metadata": {},
   "outputs": [],
   "source": [
    "import PyPDF2 \n",
    "import pandas as pd\n",
    "import collections"
   ]
  },
  {
   "cell_type": "code",
   "execution_count": 6,
   "metadata": {},
   "outputs": [
    {
     "data": {
      "text/plain": [
       "13048"
      ]
     },
     "execution_count": 6,
     "metadata": {},
     "output_type": "execute_result"
    }
   ],
   "source": [
    "pdfFileObj = open('/Users/dyoon/Documents/Industry Mapping/All_Facilities_Alpha.pdf', 'rb')\n",
    "pdfReader = PyPDF2.PdfFileReader(pdfFileObj)\n",
    "\n",
    "company_list = []\n",
    "\n",
    "for pageNum in range(4,pdfReader.numPages):\n",
    "    pageObj = pdfReader.getPage(pageNum)\n",
    "    company_list.extend([x for x in pageObj.extractText().splitlines() if len(x) > 1])\n",
    "    \n",
    "len(company_list)"
   ]
  },
  {
   "cell_type": "code",
   "execution_count": 7,
   "metadata": {},
   "outputs": [
    {
     "name": "stdout",
     "output_type": "stream",
     "text": [
      "3953 3953\n"
     ]
    }
   ],
   "source": [
    "space_words = {i:company_list[i]+company_list[i+1] for i in range(0,len(company_list)) \n",
    "               if company_list[i].endswith(\" \")}\n",
    "non_space_words = {i:company_list[i] for i in range(0,len(company_list)-1) \n",
    "               if company_list[i].endswith(\" \") == False and\n",
    "                  company_list[i-1].endswith(\" \") == False}\n",
    "\n",
    "merged_words = z = {**space_words, **non_space_words}\n",
    "merged_words = collections.OrderedDict(sorted(merged_words.items()))\n",
    "\n",
    "cleaned_words = list(merged_words.values())\n",
    "\n",
    "pdf_company_list = [cleaned_words[i] for i in range(0,len(cleaned_words)-3) if \"NAICS\" in cleaned_words[i+2]  ]# if \"NAICS\" not in cleaned_words[i] and \"KY\" not in cleaned_words[i]]\n",
    "\n",
    "pdf_naics_list = [naics for naics in cleaned_words if \"NAICS\" in naics]\n",
    "pdf_naics_list = [' '.join(w for w in p.split() if w not in \"NAICS: \")[:4] for p in pdf_naics_list] #Parse only first NAICS code\n",
    "\n",
    "print(len(pdf_company_list),len(pdf_naics_list))"
   ]
  },
  {
   "cell_type": "code",
   "execution_count": 8,
   "metadata": {},
   "outputs": [
    {
     "data": {
      "text/html": [
       "<div>\n",
       "<style scoped>\n",
       "    .dataframe tbody tr th:only-of-type {\n",
       "        vertical-align: middle;\n",
       "    }\n",
       "\n",
       "    .dataframe tbody tr th {\n",
       "        vertical-align: top;\n",
       "    }\n",
       "\n",
       "    .dataframe thead th {\n",
       "        text-align: right;\n",
       "    }\n",
       "</style>\n",
       "<table border=\"1\" class=\"dataframe\">\n",
       "  <thead>\n",
       "    <tr style=\"text-align: right;\">\n",
       "      <th></th>\n",
       "      <th>Company Name</th>\n",
       "      <th>NAICS Code</th>\n",
       "    </tr>\n",
       "  </thead>\n",
       "  <tbody>\n",
       "    <tr>\n",
       "      <td>3948</td>\n",
       "      <td>ZirMed Inc</td>\n",
       "      <td>5182</td>\n",
       "    </tr>\n",
       "    <tr>\n",
       "      <td>3949</td>\n",
       "      <td>Zoeller Pump Co</td>\n",
       "      <td>3329</td>\n",
       "    </tr>\n",
       "    <tr>\n",
       "      <td>3950</td>\n",
       "      <td>ZoomEssence Inc</td>\n",
       "      <td>3119</td>\n",
       "    </tr>\n",
       "    <tr>\n",
       "      <td>3951</td>\n",
       "      <td>Zotefoams Inc</td>\n",
       "      <td>3261</td>\n",
       "    </tr>\n",
       "    <tr>\n",
       "      <td>3952</td>\n",
       "      <td>The C W Zumbiel Company</td>\n",
       "      <td>3222</td>\n",
       "    </tr>\n",
       "  </tbody>\n",
       "</table>\n",
       "</div>"
      ],
      "text/plain": [
       "                 Company Name NAICS Code\n",
       "3948               ZirMed Inc       5182\n",
       "3949          Zoeller Pump Co       3329\n",
       "3950          ZoomEssence Inc       3119\n",
       "3951            Zotefoams Inc       3261\n",
       "3952  The C W Zumbiel Company       3222"
      ]
     },
     "execution_count": 8,
     "metadata": {},
     "output_type": "execute_result"
    }
   ],
   "source": [
    "df = pd.DataFrame(list(zip(pdf_company_list, pdf_naics_list)), columns =['Company Name', 'NAICS Code'])\n",
    "df.tail()"
   ]
  }
 ],
 "metadata": {
  "kernelspec": {
   "display_name": "Python 3",
   "language": "python",
   "name": "python3"
  },
  "language_info": {
   "codemirror_mode": {
    "name": "ipython",
    "version": 3
   },
   "file_extension": ".py",
   "mimetype": "text/x-python",
   "name": "python",
   "nbconvert_exporter": "python",
   "pygments_lexer": "ipython3",
   "version": "3.7.4"
  }
 },
 "nbformat": 4,
 "nbformat_minor": 2
}
